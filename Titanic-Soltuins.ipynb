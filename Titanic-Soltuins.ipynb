{
 "cells": [
  {
   "cell_type": "markdown",
   "id": "92e943de-46a0-4cf2-932f-d8ba111d0255",
   "metadata": {},
   "source": [
    "## Titanic Survival Analysis"
   ]
  },
  {
   "cell_type": "code",
   "execution_count": 780,
   "id": "1a1b2be9-ca6c-4391-bbab-5d6c0bc921e5",
   "metadata": {},
   "outputs": [],
   "source": [
    "import pandas as pd \n",
    "import numpy as np\n",
    "import matplotlib.pyplot as plt\n",
    "import seaborn as sns"
   ]
  },
  {
   "cell_type": "markdown",
   "id": "cc47e367-842c-4a2e-abde-f66e95b5a8bb",
   "metadata": {},
   "source": [
    "### 1.Load Dataset into Python?"
   ]
  },
  {
   "cell_type": "code",
   "execution_count": 782,
   "id": "f6055741-8562-4a08-8e07-6a9ad3c5b6b4",
   "metadata": {},
   "outputs": [],
   "source": [
    "dataframe = pd.read_csv('Titanic.csv')\n",
    "df = dataframe.copy()"
   ]
  },
  {
   "cell_type": "markdown",
   "id": "253c2f56-44cb-4743-a42b-ffccdb350b7f",
   "metadata": {},
   "source": [
    "### 2.Display first 6 rows and last 6 rows of the dataset?"
   ]
  },
  {
   "cell_type": "code",
   "execution_count": 784,
   "id": "924924e1-4ed7-490b-89bd-baf26e70d30f",
   "metadata": {},
   "outputs": [
    {
     "data": {
      "text/html": [
       "<div>\n",
       "<style scoped>\n",
       "    .dataframe tbody tr th:only-of-type {\n",
       "        vertical-align: middle;\n",
       "    }\n",
       "\n",
       "    .dataframe tbody tr th {\n",
       "        vertical-align: top;\n",
       "    }\n",
       "\n",
       "    .dataframe thead th {\n",
       "        text-align: right;\n",
       "    }\n",
       "</style>\n",
       "<table border=\"1\" class=\"dataframe\">\n",
       "  <thead>\n",
       "    <tr style=\"text-align: right;\">\n",
       "      <th></th>\n",
       "      <th>PassengerId</th>\n",
       "      <th>Survived</th>\n",
       "      <th>Pclass</th>\n",
       "      <th>Name</th>\n",
       "      <th>Sex</th>\n",
       "      <th>Age</th>\n",
       "      <th>SibSp</th>\n",
       "      <th>Parch</th>\n",
       "      <th>Ticket</th>\n",
       "      <th>Fare</th>\n",
       "      <th>Cabin</th>\n",
       "      <th>Embarked</th>\n",
       "    </tr>\n",
       "  </thead>\n",
       "  <tbody>\n",
       "    <tr>\n",
       "      <th>0</th>\n",
       "      <td>1</td>\n",
       "      <td>0</td>\n",
       "      <td>3</td>\n",
       "      <td>Braund, Mr. Owen Harris</td>\n",
       "      <td>male</td>\n",
       "      <td>22.0</td>\n",
       "      <td>1</td>\n",
       "      <td>0</td>\n",
       "      <td>A/5 21171</td>\n",
       "      <td>7.2500</td>\n",
       "      <td>NaN</td>\n",
       "      <td>S</td>\n",
       "    </tr>\n",
       "    <tr>\n",
       "      <th>1</th>\n",
       "      <td>2</td>\n",
       "      <td>1</td>\n",
       "      <td>1</td>\n",
       "      <td>Cumings, Mrs. John Bradley (Florence Briggs Th...</td>\n",
       "      <td>female</td>\n",
       "      <td>38.0</td>\n",
       "      <td>1</td>\n",
       "      <td>0</td>\n",
       "      <td>PC 17599</td>\n",
       "      <td>71.2833</td>\n",
       "      <td>C85</td>\n",
       "      <td>C</td>\n",
       "    </tr>\n",
       "    <tr>\n",
       "      <th>2</th>\n",
       "      <td>3</td>\n",
       "      <td>1</td>\n",
       "      <td>3</td>\n",
       "      <td>Heikkinen, Miss. Laina</td>\n",
       "      <td>female</td>\n",
       "      <td>26.0</td>\n",
       "      <td>0</td>\n",
       "      <td>0</td>\n",
       "      <td>STON/O2. 3101282</td>\n",
       "      <td>7.9250</td>\n",
       "      <td>NaN</td>\n",
       "      <td>S</td>\n",
       "    </tr>\n",
       "    <tr>\n",
       "      <th>3</th>\n",
       "      <td>4</td>\n",
       "      <td>1</td>\n",
       "      <td>1</td>\n",
       "      <td>Futrelle, Mrs. Jacques Heath (Lily May Peel)</td>\n",
       "      <td>female</td>\n",
       "      <td>35.0</td>\n",
       "      <td>1</td>\n",
       "      <td>0</td>\n",
       "      <td>113803</td>\n",
       "      <td>53.1000</td>\n",
       "      <td>C123</td>\n",
       "      <td>S</td>\n",
       "    </tr>\n",
       "    <tr>\n",
       "      <th>4</th>\n",
       "      <td>5</td>\n",
       "      <td>0</td>\n",
       "      <td>3</td>\n",
       "      <td>Allen, Mr. William Henry</td>\n",
       "      <td>male</td>\n",
       "      <td>35.0</td>\n",
       "      <td>0</td>\n",
       "      <td>0</td>\n",
       "      <td>373450</td>\n",
       "      <td>8.0500</td>\n",
       "      <td>NaN</td>\n",
       "      <td>S</td>\n",
       "    </tr>\n",
       "    <tr>\n",
       "      <th>5</th>\n",
       "      <td>6</td>\n",
       "      <td>0</td>\n",
       "      <td>3</td>\n",
       "      <td>Moran, Mr. James</td>\n",
       "      <td>male</td>\n",
       "      <td>NaN</td>\n",
       "      <td>0</td>\n",
       "      <td>0</td>\n",
       "      <td>330877</td>\n",
       "      <td>8.4583</td>\n",
       "      <td>NaN</td>\n",
       "      <td>Q</td>\n",
       "    </tr>\n",
       "  </tbody>\n",
       "</table>\n",
       "</div>"
      ],
      "text/plain": [
       "   PassengerId  Survived  Pclass  \\\n",
       "0            1         0       3   \n",
       "1            2         1       1   \n",
       "2            3         1       3   \n",
       "3            4         1       1   \n",
       "4            5         0       3   \n",
       "5            6         0       3   \n",
       "\n",
       "                                                Name     Sex   Age  SibSp  \\\n",
       "0                            Braund, Mr. Owen Harris    male  22.0      1   \n",
       "1  Cumings, Mrs. John Bradley (Florence Briggs Th...  female  38.0      1   \n",
       "2                             Heikkinen, Miss. Laina  female  26.0      0   \n",
       "3       Futrelle, Mrs. Jacques Heath (Lily May Peel)  female  35.0      1   \n",
       "4                           Allen, Mr. William Henry    male  35.0      0   \n",
       "5                                   Moran, Mr. James    male   NaN      0   \n",
       "\n",
       "   Parch            Ticket     Fare Cabin Embarked  \n",
       "0      0         A/5 21171   7.2500   NaN        S  \n",
       "1      0          PC 17599  71.2833   C85        C  \n",
       "2      0  STON/O2. 3101282   7.9250   NaN        S  \n",
       "3      0            113803  53.1000  C123        S  \n",
       "4      0            373450   8.0500   NaN        S  \n",
       "5      0            330877   8.4583   NaN        Q  "
      ]
     },
     "execution_count": 784,
     "metadata": {},
     "output_type": "execute_result"
    }
   ],
   "source": [
    "df.head(6)"
   ]
  },
  {
   "cell_type": "code",
   "execution_count": 785,
   "id": "2e725167-1294-40e4-bcf9-486730f709a9",
   "metadata": {},
   "outputs": [
    {
     "data": {
      "text/html": [
       "<div>\n",
       "<style scoped>\n",
       "    .dataframe tbody tr th:only-of-type {\n",
       "        vertical-align: middle;\n",
       "    }\n",
       "\n",
       "    .dataframe tbody tr th {\n",
       "        vertical-align: top;\n",
       "    }\n",
       "\n",
       "    .dataframe thead th {\n",
       "        text-align: right;\n",
       "    }\n",
       "</style>\n",
       "<table border=\"1\" class=\"dataframe\">\n",
       "  <thead>\n",
       "    <tr style=\"text-align: right;\">\n",
       "      <th></th>\n",
       "      <th>PassengerId</th>\n",
       "      <th>Survived</th>\n",
       "      <th>Pclass</th>\n",
       "      <th>Name</th>\n",
       "      <th>Sex</th>\n",
       "      <th>Age</th>\n",
       "      <th>SibSp</th>\n",
       "      <th>Parch</th>\n",
       "      <th>Ticket</th>\n",
       "      <th>Fare</th>\n",
       "      <th>Cabin</th>\n",
       "      <th>Embarked</th>\n",
       "    </tr>\n",
       "  </thead>\n",
       "  <tbody>\n",
       "    <tr>\n",
       "      <th>885</th>\n",
       "      <td>886</td>\n",
       "      <td>0</td>\n",
       "      <td>3</td>\n",
       "      <td>Rice, Mrs. William (Margaret Norton)</td>\n",
       "      <td>female</td>\n",
       "      <td>39.0</td>\n",
       "      <td>0</td>\n",
       "      <td>5</td>\n",
       "      <td>382652</td>\n",
       "      <td>29.125</td>\n",
       "      <td>NaN</td>\n",
       "      <td>Q</td>\n",
       "    </tr>\n",
       "    <tr>\n",
       "      <th>886</th>\n",
       "      <td>887</td>\n",
       "      <td>0</td>\n",
       "      <td>2</td>\n",
       "      <td>Montvila, Rev. Juozas</td>\n",
       "      <td>male</td>\n",
       "      <td>27.0</td>\n",
       "      <td>0</td>\n",
       "      <td>0</td>\n",
       "      <td>211536</td>\n",
       "      <td>13.000</td>\n",
       "      <td>NaN</td>\n",
       "      <td>S</td>\n",
       "    </tr>\n",
       "    <tr>\n",
       "      <th>887</th>\n",
       "      <td>888</td>\n",
       "      <td>1</td>\n",
       "      <td>1</td>\n",
       "      <td>Graham, Miss. Margaret Edith</td>\n",
       "      <td>female</td>\n",
       "      <td>19.0</td>\n",
       "      <td>0</td>\n",
       "      <td>0</td>\n",
       "      <td>112053</td>\n",
       "      <td>30.000</td>\n",
       "      <td>B42</td>\n",
       "      <td>S</td>\n",
       "    </tr>\n",
       "    <tr>\n",
       "      <th>888</th>\n",
       "      <td>889</td>\n",
       "      <td>0</td>\n",
       "      <td>3</td>\n",
       "      <td>Johnston, Miss. Catherine Helen \"Carrie\"</td>\n",
       "      <td>female</td>\n",
       "      <td>NaN</td>\n",
       "      <td>1</td>\n",
       "      <td>2</td>\n",
       "      <td>W./C. 6607</td>\n",
       "      <td>23.450</td>\n",
       "      <td>NaN</td>\n",
       "      <td>S</td>\n",
       "    </tr>\n",
       "    <tr>\n",
       "      <th>889</th>\n",
       "      <td>890</td>\n",
       "      <td>1</td>\n",
       "      <td>1</td>\n",
       "      <td>Behr, Mr. Karl Howell</td>\n",
       "      <td>male</td>\n",
       "      <td>26.0</td>\n",
       "      <td>0</td>\n",
       "      <td>0</td>\n",
       "      <td>111369</td>\n",
       "      <td>30.000</td>\n",
       "      <td>C148</td>\n",
       "      <td>C</td>\n",
       "    </tr>\n",
       "    <tr>\n",
       "      <th>890</th>\n",
       "      <td>891</td>\n",
       "      <td>0</td>\n",
       "      <td>3</td>\n",
       "      <td>Dooley, Mr. Patrick</td>\n",
       "      <td>male</td>\n",
       "      <td>32.0</td>\n",
       "      <td>0</td>\n",
       "      <td>0</td>\n",
       "      <td>370376</td>\n",
       "      <td>7.750</td>\n",
       "      <td>NaN</td>\n",
       "      <td>Q</td>\n",
       "    </tr>\n",
       "  </tbody>\n",
       "</table>\n",
       "</div>"
      ],
      "text/plain": [
       "     PassengerId  Survived  Pclass                                      Name  \\\n",
       "885          886         0       3      Rice, Mrs. William (Margaret Norton)   \n",
       "886          887         0       2                     Montvila, Rev. Juozas   \n",
       "887          888         1       1              Graham, Miss. Margaret Edith   \n",
       "888          889         0       3  Johnston, Miss. Catherine Helen \"Carrie\"   \n",
       "889          890         1       1                     Behr, Mr. Karl Howell   \n",
       "890          891         0       3                       Dooley, Mr. Patrick   \n",
       "\n",
       "        Sex   Age  SibSp  Parch      Ticket    Fare Cabin Embarked  \n",
       "885  female  39.0      0      5      382652  29.125   NaN        Q  \n",
       "886    male  27.0      0      0      211536  13.000   NaN        S  \n",
       "887  female  19.0      0      0      112053  30.000   B42        S  \n",
       "888  female   NaN      1      2  W./C. 6607  23.450   NaN        S  \n",
       "889    male  26.0      0      0      111369  30.000  C148        C  \n",
       "890    male  32.0      0      0      370376   7.750   NaN        Q  "
      ]
     },
     "execution_count": 785,
     "metadata": {},
     "output_type": "execute_result"
    }
   ],
   "source": [
    "df.tail(6)"
   ]
  },
  {
   "cell_type": "markdown",
   "id": "67d94ac4-b75c-430d-ab6b-4d69ee34a48d",
   "metadata": {},
   "source": [
    "### 3.Display the shape of the dataset?"
   ]
  },
  {
   "cell_type": "code",
   "execution_count": 787,
   "id": "df5af752-4b02-41a4-bbcb-92fcc38a558d",
   "metadata": {},
   "outputs": [
    {
     "data": {
      "text/plain": [
       "(891, 12)"
      ]
     },
     "execution_count": 787,
     "metadata": {},
     "output_type": "execute_result"
    }
   ],
   "source": [
    "df.shape"
   ]
  },
  {
   "cell_type": "markdown",
   "id": "a6d1dea3-d4a4-4143-97d3-72b7e29cbd1f",
   "metadata": {},
   "source": [
    "### 4.Display all column names?"
   ]
  },
  {
   "cell_type": "code",
   "execution_count": 789,
   "id": "f2adf61e-7932-4c76-9232-30297fd2a94f",
   "metadata": {},
   "outputs": [
    {
     "data": {
      "text/plain": [
       "Index(['PassengerId', 'Survived', 'Pclass', 'Name', 'Sex', 'Age', 'SibSp',\n",
       "       'Parch', 'Ticket', 'Fare', 'Cabin', 'Embarked'],\n",
       "      dtype='object')"
      ]
     },
     "execution_count": 789,
     "metadata": {},
     "output_type": "execute_result"
    }
   ],
   "source": [
    "df.columns"
   ]
  },
  {
   "cell_type": "markdown",
   "id": "8cfa8ea3-3ff3-4f6e-bd20-4a97c66593ac",
   "metadata": {},
   "source": [
    "### Rename Column Names as Required"
   ]
  },
  {
   "cell_type": "code",
   "execution_count": 791,
   "id": "68e07cbe-1eec-4fbc-98a0-fceff5dc283b",
   "metadata": {},
   "outputs": [],
   "source": [
    "df.rename(columns={'Pclass': 'Passenger Class', 'SibSp': 'Siblings/Spouses'}, inplace=True)\n",
    "df.rename(columns={'Parch': 'Parents/Children'}, inplace=True)"
   ]
  },
  {
   "cell_type": "markdown",
   "id": "a283a0a7-700c-4e23-b4fb-526bce48336a",
   "metadata": {},
   "source": [
    "### 5.Display the type of each column?"
   ]
  },
  {
   "cell_type": "code",
   "execution_count": 793,
   "id": "a504f04c-fd03-4179-8bf1-1dda2f9647cf",
   "metadata": {},
   "outputs": [
    {
     "data": {
      "text/plain": [
       "PassengerId           int64\n",
       "Survived              int64\n",
       "Passenger Class       int64\n",
       "Name                 object\n",
       "Sex                  object\n",
       "Age                 float64\n",
       "Siblings/Spouses      int64\n",
       "Parents/Children      int64\n",
       "Ticket               object\n",
       "Fare                float64\n",
       "Cabin                object\n",
       "Embarked             object\n",
       "dtype: object"
      ]
     },
     "execution_count": 793,
     "metadata": {},
     "output_type": "execute_result"
    }
   ],
   "source": [
    "df.dtypes"
   ]
  },
  {
   "cell_type": "markdown",
   "id": "0c990a4f-f291-41fd-a723-b6be2f4e7ad9",
   "metadata": {},
   "source": [
    "### 6.Print the information and summary?"
   ]
  },
  {
   "cell_type": "code",
   "execution_count": 795,
   "id": "db19c73b-5e67-445a-8972-5a37e1c5661c",
   "metadata": {},
   "outputs": [
    {
     "name": "stdout",
     "output_type": "stream",
     "text": [
      "<class 'pandas.core.frame.DataFrame'>\n",
      "RangeIndex: 891 entries, 0 to 890\n",
      "Data columns (total 12 columns):\n",
      " #   Column            Non-Null Count  Dtype  \n",
      "---  ------            --------------  -----  \n",
      " 0   PassengerId       891 non-null    int64  \n",
      " 1   Survived          891 non-null    int64  \n",
      " 2   Passenger Class   891 non-null    int64  \n",
      " 3   Name              891 non-null    object \n",
      " 4   Sex               891 non-null    object \n",
      " 5   Age               714 non-null    float64\n",
      " 6   Siblings/Spouses  891 non-null    int64  \n",
      " 7   Parents/Children  891 non-null    int64  \n",
      " 8   Ticket            891 non-null    object \n",
      " 9   Fare              891 non-null    float64\n",
      " 10  Cabin             204 non-null    object \n",
      " 11  Embarked          889 non-null    object \n",
      "dtypes: float64(2), int64(5), object(5)\n",
      "memory usage: 83.7+ KB\n"
     ]
    }
   ],
   "source": [
    "df.info()"
   ]
  },
  {
   "cell_type": "code",
   "execution_count": 796,
   "id": "27861628-b53a-4ee5-ae7b-7c6b509e6817",
   "metadata": {},
   "outputs": [
    {
     "data": {
      "text/html": [
       "<div>\n",
       "<style scoped>\n",
       "    .dataframe tbody tr th:only-of-type {\n",
       "        vertical-align: middle;\n",
       "    }\n",
       "\n",
       "    .dataframe tbody tr th {\n",
       "        vertical-align: top;\n",
       "    }\n",
       "\n",
       "    .dataframe thead th {\n",
       "        text-align: right;\n",
       "    }\n",
       "</style>\n",
       "<table border=\"1\" class=\"dataframe\">\n",
       "  <thead>\n",
       "    <tr style=\"text-align: right;\">\n",
       "      <th></th>\n",
       "      <th>PassengerId</th>\n",
       "      <th>Survived</th>\n",
       "      <th>Passenger Class</th>\n",
       "      <th>Age</th>\n",
       "      <th>Siblings/Spouses</th>\n",
       "      <th>Parents/Children</th>\n",
       "      <th>Fare</th>\n",
       "    </tr>\n",
       "  </thead>\n",
       "  <tbody>\n",
       "    <tr>\n",
       "      <th>count</th>\n",
       "      <td>891.000000</td>\n",
       "      <td>891.000000</td>\n",
       "      <td>891.000000</td>\n",
       "      <td>714.000000</td>\n",
       "      <td>891.000000</td>\n",
       "      <td>891.000000</td>\n",
       "      <td>891.000000</td>\n",
       "    </tr>\n",
       "    <tr>\n",
       "      <th>mean</th>\n",
       "      <td>446.000000</td>\n",
       "      <td>0.383838</td>\n",
       "      <td>2.308642</td>\n",
       "      <td>29.699118</td>\n",
       "      <td>0.523008</td>\n",
       "      <td>0.381594</td>\n",
       "      <td>32.204208</td>\n",
       "    </tr>\n",
       "    <tr>\n",
       "      <th>std</th>\n",
       "      <td>257.353842</td>\n",
       "      <td>0.486592</td>\n",
       "      <td>0.836071</td>\n",
       "      <td>14.526497</td>\n",
       "      <td>1.102743</td>\n",
       "      <td>0.806057</td>\n",
       "      <td>49.693429</td>\n",
       "    </tr>\n",
       "    <tr>\n",
       "      <th>min</th>\n",
       "      <td>1.000000</td>\n",
       "      <td>0.000000</td>\n",
       "      <td>1.000000</td>\n",
       "      <td>0.420000</td>\n",
       "      <td>0.000000</td>\n",
       "      <td>0.000000</td>\n",
       "      <td>0.000000</td>\n",
       "    </tr>\n",
       "    <tr>\n",
       "      <th>25%</th>\n",
       "      <td>223.500000</td>\n",
       "      <td>0.000000</td>\n",
       "      <td>2.000000</td>\n",
       "      <td>20.125000</td>\n",
       "      <td>0.000000</td>\n",
       "      <td>0.000000</td>\n",
       "      <td>7.910400</td>\n",
       "    </tr>\n",
       "    <tr>\n",
       "      <th>50%</th>\n",
       "      <td>446.000000</td>\n",
       "      <td>0.000000</td>\n",
       "      <td>3.000000</td>\n",
       "      <td>28.000000</td>\n",
       "      <td>0.000000</td>\n",
       "      <td>0.000000</td>\n",
       "      <td>14.454200</td>\n",
       "    </tr>\n",
       "    <tr>\n",
       "      <th>75%</th>\n",
       "      <td>668.500000</td>\n",
       "      <td>1.000000</td>\n",
       "      <td>3.000000</td>\n",
       "      <td>38.000000</td>\n",
       "      <td>1.000000</td>\n",
       "      <td>0.000000</td>\n",
       "      <td>31.000000</td>\n",
       "    </tr>\n",
       "    <tr>\n",
       "      <th>max</th>\n",
       "      <td>891.000000</td>\n",
       "      <td>1.000000</td>\n",
       "      <td>3.000000</td>\n",
       "      <td>80.000000</td>\n",
       "      <td>8.000000</td>\n",
       "      <td>6.000000</td>\n",
       "      <td>512.329200</td>\n",
       "    </tr>\n",
       "  </tbody>\n",
       "</table>\n",
       "</div>"
      ],
      "text/plain": [
       "       PassengerId    Survived  Passenger Class         Age  Siblings/Spouses  \\\n",
       "count   891.000000  891.000000       891.000000  714.000000        891.000000   \n",
       "mean    446.000000    0.383838         2.308642   29.699118          0.523008   \n",
       "std     257.353842    0.486592         0.836071   14.526497          1.102743   \n",
       "min       1.000000    0.000000         1.000000    0.420000          0.000000   \n",
       "25%     223.500000    0.000000         2.000000   20.125000          0.000000   \n",
       "50%     446.000000    0.000000         3.000000   28.000000          0.000000   \n",
       "75%     668.500000    1.000000         3.000000   38.000000          1.000000   \n",
       "max     891.000000    1.000000         3.000000   80.000000          8.000000   \n",
       "\n",
       "       Parents/Children        Fare  \n",
       "count        891.000000  891.000000  \n",
       "mean           0.381594   32.204208  \n",
       "std            0.806057   49.693429  \n",
       "min            0.000000    0.000000  \n",
       "25%            0.000000    7.910400  \n",
       "50%            0.000000   14.454200  \n",
       "75%            0.000000   31.000000  \n",
       "max            6.000000  512.329200  "
      ]
     },
     "execution_count": 796,
     "metadata": {},
     "output_type": "execute_result"
    }
   ],
   "source": [
    "df.describe()"
   ]
  },
  {
   "cell_type": "markdown",
   "id": "e26120a5-f912-49a2-8087-436751155d96",
   "metadata": {},
   "source": [
    "### 7.Find Null Values?"
   ]
  },
  {
   "cell_type": "code",
   "execution_count": 798,
   "id": "2eef6424-192d-4a8b-98b2-838855a6f4c0",
   "metadata": {},
   "outputs": [
    {
     "data": {
      "text/plain": [
       "PassengerId           0\n",
       "Survived              0\n",
       "Passenger Class       0\n",
       "Name                  0\n",
       "Sex                   0\n",
       "Age                 177\n",
       "Siblings/Spouses      0\n",
       "Parents/Children      0\n",
       "Ticket                0\n",
       "Fare                  0\n",
       "Cabin               687\n",
       "Embarked              2\n",
       "dtype: int64"
      ]
     },
     "execution_count": 798,
     "metadata": {},
     "output_type": "execute_result"
    }
   ],
   "source": [
    "df.isnull().sum()"
   ]
  },
  {
   "cell_type": "markdown",
   "id": "bef21efc-a09c-4566-915d-c50cb77a100a",
   "metadata": {},
   "source": [
    "### 8.Replace Null values with the Mean, Median, Mode Values or Unknown?"
   ]
  },
  {
   "cell_type": "code",
   "execution_count": 800,
   "id": "9cee4b35-8c57-422d-bc63-de7ab32cd4d2",
   "metadata": {},
   "outputs": [],
   "source": [
    "# Replace null values in 'Age' column with the 'median value'\n",
    "df['Age'] = df['Age'].fillna(df['Age'].median())"
   ]
  },
  {
   "cell_type": "code",
   "execution_count": 801,
   "id": "1d343073-ce09-4c3d-964a-864e71ffb5d8",
   "metadata": {},
   "outputs": [],
   "source": [
    "# Replace null values in 'Cabin' column with the 'Unknown'\n",
    "df['Cabin']=df['Cabin'].fillna('Unknown')"
   ]
  },
  {
   "cell_type": "code",
   "execution_count": 802,
   "id": "97de023e-303b-47ed-9eb3-e07a82bfcfd4",
   "metadata": {},
   "outputs": [],
   "source": [
    "# Replace null values in 'Embarked' column with the 'Mode Value'\n",
    "df['Embarked'] = df['Embarked'].fillna(df['Embarked'].mode().iloc[0])"
   ]
  },
  {
   "cell_type": "code",
   "execution_count": 803,
   "id": "ff7fde76-dd8b-4a3d-8638-1c71fc8a1355",
   "metadata": {},
   "outputs": [
    {
     "data": {
      "text/plain": [
       "PassengerId         0\n",
       "Survived            0\n",
       "Passenger Class     0\n",
       "Name                0\n",
       "Sex                 0\n",
       "Age                 0\n",
       "Siblings/Spouses    0\n",
       "Parents/Children    0\n",
       "Ticket              0\n",
       "Fare                0\n",
       "Cabin               0\n",
       "Embarked            0\n",
       "dtype: int64"
      ]
     },
     "execution_count": 803,
     "metadata": {},
     "output_type": "execute_result"
    }
   ],
   "source": [
    "df.isnull().sum()"
   ]
  },
  {
   "cell_type": "markdown",
   "id": "bf44d44f-6104-4bce-886d-526acfaaacc2",
   "metadata": {},
   "source": [
    "### 9.Count of Survived vs UnSurvived and display using piechart?"
   ]
  },
  {
   "cell_type": "code",
   "execution_count": 805,
   "id": "2068c690-289c-406f-9ec0-52f04915bab6",
   "metadata": {},
   "outputs": [
    {
     "data": {
      "image/png": "[encoded data removed]",
      "text/plain": [
       "<Figure size 500x300 with 1 Axes>"
      ]
     },
     "metadata": {},
     "output_type": "display_data"
    }
   ],
   "source": [
    "Survival_Count = df.Survived.value_counts().loc[[1,0]]\n",
    "plt.figure(figsize=(5, 3))  # Set the figure size\n",
    "plt.pie(Survival_Count, labels=[ 'Survived', 'Not Survived'],  autopct='%1.2f%%')\n",
    "plt.title('Titanic Survival Rate')\n",
    "plt.show()\n",
    "\n"
   ]
  },
  {
   "cell_type": "markdown",
   "id": "dd01675c-104f-4710-82db-efe443c1abdf",
   "metadata": {},
   "source": [
    "### 10.Cross check the Survival Percent Manually"
   ]
  },
  {
   "cell_type": "code",
   "execution_count": 807,
   "id": "da887a56-1631-4c3a-9010-14185296fc0a",
   "metadata": {},
   "outputs": [
    {
     "name": "stdout",
     "output_type": "stream",
     "text": [
      "Survival rate: 38.38%\n"
     ]
    }
   ],
   "source": [
    "survival_rate = (df['Survived'].value_counts()[1] / len(df)) * 100\n",
    "print(f\"Survival rate: {survival_rate:.2f}%\")"
   ]
  },
  {
   "cell_type": "markdown",
   "id": "4c30e835-3b47-4e85-9c8a-da50470c1c60",
   "metadata": {},
   "source": [
    "### 11.Count of Female passengers travelled in the first class, and display using piechart?"
   ]
  },
  {
   "cell_type": "code",
   "execution_count": 809,
   "id": "24e3321f-edf2-4e31-96a3-9070dfaeb2b3",
   "metadata": {},
   "outputs": [
    {
     "data": {
      "image/png": "[encoded data removed]",
      "text/plain": [
       "<Figure size 640x480 with 1 Axes>"
      ]
     },
     "metadata": {},
     "output_type": "display_data"
    },
    {
     "name": "stdout",
     "output_type": "stream",
     "text": [
      "Count of female passengers in first class: 94\n",
      "Count of female passengers in second class: 76\n",
      "Count of female passengers in third class: 144\n"
     ]
    }
   ],
   "source": [
    "# Filter female passengers by class\n",
    "female_first_class = df[(df['Sex'] == 'female') & (df['Passenger Class'] == 1)]\n",
    "female_second_class = df[(df['Sex'] == 'female') & (df['Passenger Class'] == 2)]\n",
    "female_third_class = df[(df['Sex'] == 'female') & (df['Passenger Class'] == 3)]\n",
    "\n",
    "# Count female passengers by class\n",
    "count_first_class = len(female_first_class)\n",
    "count_second_class = len(female_second_class)\n",
    "count_third_class = len(female_third_class)\n",
    "# Create a pie chart\n",
    "labels = ['1st Class', '2nd Class', '3rd Class']\n",
    "sizes = [count_first_class, count_second_class, count_third_class]\n",
    "colors = ['#1f77b4', '#ff7f0e', '#2ca02c']\n",
    "explode = [0.1, 0, 0]  # explode the first class slice\n",
    "\n",
    "plt.pie(sizes, labels=labels, colors=colors, explode=explode, autopct='%1.2f%%')\n",
    "plt.title('Female Passengers by Class')\n",
    "plt.show()\n",
    "\n",
    "print(f\"Count of female passengers in first class: {count_first_class}\")\n",
    "print(f\"Count of female passengers in second class: {count_second_class}\")\n",
    "print(f\"Count of female passengers in third class: {count_third_class}\")"
   ]
  },
  {
   "cell_type": "markdown",
   "id": "d3cf2595-8c1b-4044-9ffa-d409608e7e38",
   "metadata": {},
   "source": [
    "### 12.Find out number of male survived with age>40 and display using pie chart?"
   ]
  },
  {
   "cell_type": "code",
   "execution_count": 811,
   "id": "4b306446-dabb-4fb0-9491-93581618f843",
   "metadata": {},
   "outputs": [
    {
     "data": {
      "image/png": "[encoded data removed]",
      "text/plain": [
       "<Figure size 800x600 with 1 Axes>"
      ]
     },
     "metadata": {},
     "output_type": "display_data"
    },
    {
     "name": "stdout",
     "output_type": "stream",
     "text": [
      "Male passengers above 40 who survived: 18\n",
      "Male passengers above 40 who did not survive: 84\n"
     ]
    }
   ],
   "source": [
    "# Calculate counts\n",
    "male_survived_above40 = df[(df['Sex'] == 'male') & (df['Survived'] == 1) & (df['Age'] > 40)]\n",
    "count_survived_above40 = len(male_survived_above40)\n",
    "\n",
    "male_not_survived_above40 = df[(df['Sex'] == 'male') & (df['Survived'] == 0) & (df['Age'] > 40)]\n",
    "count_not_survived_above40 = len(male_not_survived_above40)\n",
    "\n",
    "# Create a pie chart\n",
    "labels = ['Survived', 'Not Survived']\n",
    "sizes = [count_survived_above40, count_not_survived_above40]\n",
    "colors = ['#1f77b4', '#ff7f0e']\n",
    "\n",
    "plt.figure(figsize=(8,6))\n",
    "plt.pie(sizes, labels=labels, colors=colors, autopct='%1.1f%%')\n",
    "plt.title('Male Passengers Above 40: Survived vs Not Survived')\n",
    "plt.show()\n",
    "\n",
    "print(f\"Male passengers above 40 who survived: {count_survived_above40}\")\n",
    "print(f\"Male passengers above 40 who did not survive: {count_not_survived_above40}\")\n",
    "\n",
    "\n"
   ]
  },
  {
   "cell_type": "markdown",
   "id": "ef688c54-b3ce-4463-aac5-7beb4761e364",
   "metadata": {},
   "source": [
    "### 13.Find out number of female survived with age<30 and display using pie chart and bar graph?"
   ]
  },
  {
   "cell_type": "code",
   "execution_count": 813,
   "id": "88449a85-5707-41a4-be0f-71c83f2b9e1f",
   "metadata": {},
   "outputs": [
    {
     "data": {
      "image/png": "[encoded data removed]",
      "text/plain": [
       "<Figure size 800x600 with 1 Axes>"
      ]
     },
     "metadata": {},
     "output_type": "display_data"
    },
    {
     "name": "stdout",
     "output_type": "stream",
     "text": [
      "Female passengers under 30 who survived: 141\n",
      "Female passengers under 30 who did not survive: 59\n"
     ]
    }
   ],
   "source": [
    "# Calculate counts\n",
    "female_survived_below30 = df[(df['Sex'] == 'female') & (df['Survived'] == 1) & (df['Age'] < 30)]\n",
    "count_survived_below30 = len(female_survived_below30)\n",
    "\n",
    "female_not_survived_below30 = df[(df['Sex'] == 'female') & (df['Survived'] == 0) & (df['Age'] < 30)]\n",
    "count_not_survived_below30 = len(female_not_survived_below30)\n",
    "\n",
    "# Create a pie chart\n",
    "labels = ['Survived', 'Not Survived']\n",
    "sizes = [count_survived_below30, count_not_survived_below30]\n",
    "colors = ['#1f77b4', '#ff7f0e']\n",
    "\n",
    "plt.figure(figsize=(8,6))\n",
    "plt.pie(sizes, labels=labels, colors=colors, autopct='%1.2f%%', explode=(0.1,0))\n",
    "plt.title('Female Passengers under 30: Survived vs Not Survived')\n",
    "plt.show()\n",
    "\n",
    "print(f\"Female passengers under 30 who survived: {count_survived_below30}\")\n",
    "print(f\"Female passengers under 30 who did not survive: {count_not_survived_below30}\")\n"
   ]
  },
  {
   "cell_type": "markdown",
   "id": "51dbb707-b1a5-44ef-a818-7b33ecc8f49b",
   "metadata": {},
   "source": [
    "### Male vs Female Sruvivals"
   ]
  },
  {
   "cell_type": "code",
   "execution_count": 815,
   "id": "42efb320-2532-46cf-a941-6a29be548913",
   "metadata": {},
   "outputs": [
    {
     "data": {
      "image/png": "[encoded data removed]",
      "text/plain": [
       "<Figure size 640x480 with 1 Axes>"
      ]
     },
     "metadata": {},
     "output_type": "display_data"
    }
   ],
   "source": [
    "# Filter survivors by sex\n",
    "male_survivors = df[(df['Sex'] == 'male') & (df['Survived'] == 1)]\n",
    "female_survivors = df[(df['Sex'] == 'female') & (df['Survived'] == 1)]\n",
    "\n",
    "# Filter non-survivors by sex\n",
    "male_non_survivors = df[(df['Sex'] == 'male') & (df['Survived'] == 0)]\n",
    "female_non_survivors = df[(df['Sex'] == 'female') & (df['Survived'] == 0)]\n",
    "\n",
    "# Count survivors and non-survivors by sex\n",
    "male_survived_count = len(male_survivors)\n",
    "female_survived_count = len(female_survivors)\n",
    "male_non_survived_count = len(male_non_survivors)\n",
    "female_non_survived_count = len(female_non_survivors)\n",
    "\n",
    "# Create a bar chart\n",
    "labels = ['Male', 'Female']\n",
    "survived_sizes = [male_survived_count, female_survived_count]\n",
    "non_survived_sizes = [male_non_survived_count, female_non_survived_count]\n",
    "\n",
    "x = np.arange(len(labels))\n",
    "width = 0.35\n",
    "\n",
    "fig, ax = plt.subplots()\n",
    "rects1 = ax.bar(x - width/2, survived_sizes, width, label='Survived')\n",
    "rects2 = ax.bar(x + width/2, non_survived_sizes, width, label='Non-Survived')\n",
    "\n",
    "ax.set_ylabel('Count')\n",
    "ax.set_xlabel('Gender')\n",
    "ax.set_title('Male vs Female Survival')\n",
    "ax.set_xticks(x)\n",
    "ax.set_xticklabels(labels)\n",
    "ax.legend()\n",
    "\n",
    "plt.show()"
   ]
  },
  {
   "cell_type": "markdown",
   "id": "1d0a6f1f-ea4f-41d9-8dee-43e8265d2884",
   "metadata": {},
   "source": [
    "#### NOTE: Significant Number of Female Passengers got survived compared to Male Passengers"
   ]
  },
  {
   "cell_type": "markdown",
   "id": "9d864a51-22ab-48a5-bdcd-5a6653a94951",
   "metadata": {},
   "source": [
    "### 15. Show age with Bins"
   ]
  },
  {
   "cell_type": "code",
   "execution_count": 818,
   "id": "744c9e43-b3c8-4879-8e99-eafe17bff6ae",
   "metadata": {},
   "outputs": [
    {
     "data": {
      "image/png": "[encoded data removed]",
      "text/plain": [
       "<Figure size 640x480 with 1 Axes>"
      ]
     },
     "metadata": {},
     "output_type": "display_data"
    }
   ],
   "source": [
    "# Create a histogram of ages with 20 bins\n",
    "plt.hist(df['Age'].dropna(), bins=10, edgecolor='black')\n",
    "plt.title('Age Distribution')\n",
    "plt.xlabel('Age')\n",
    "plt.ylabel('Count')\n",
    "plt.show()"
   ]
  },
  {
   "cell_type": "markdown",
   "id": "abce57b6-e683-4dd7-8286-4e9f867e9be5",
   "metadata": {},
   "source": [
    "#### NOTE: A significant proportion of passengers (approximately >50%) fall within the age range of 20-40 years."
   ]
  },
  {
   "cell_type": "markdown",
   "id": "478f7e11-d5cc-4835-8581-e9f7d3a34c1b",
   "metadata": {},
   "source": [
    "### 16.Show age frequency with survived and not survived using histogram?"
   ]
  },
  {
   "cell_type": "code",
   "execution_count": 821,
   "id": "bcf3f97c-2424-4e71-af0d-1d64eb7f6318",
   "metadata": {},
   "outputs": [
    {
     "data": {
      "image/png": "[encoded data removed]",
      "text/plain": [
       "<Figure size 640x480 with 1 Axes>"
      ]
     },
     "metadata": {},
     "output_type": "display_data"
    }
   ],
   "source": [
    "# Create a histogram of age frequencies for survived and non-survived passengers\n",
    "plt.hist([df[df['Survived'] == 1]['Age'], df[df['Survived'] == 0]['Age']], \n",
    "         bins=20, label=['Survived', 'Non-Survived'], alpha=0.7, edgecolor='black')\n",
    "plt.title('Age Frequency by Survival Status')\n",
    "plt.xlabel('Age')\n",
    "plt.ylabel('Frequency')\n",
    "plt.legend()\n",
    "plt.show()"
   ]
  },
  {
   "cell_type": "code",
   "execution_count": null,
   "id": "a173009c-963f-43c1-8e21-2f24a28bd2e0",
   "metadata": {},
   "outputs": [],
   "source": []
  },
  {
   "cell_type": "code",
   "execution_count": 822,
   "id": "f017e03d-a2f9-4eaf-9c4f-027c132c707b",
   "metadata": {},
   "outputs": [
    {
     "data": {
      "image/png": "[encoded data removed]",
      "text/plain": [
       "<Figure size 640x480 with 1 Axes>"
      ]
     },
     "metadata": {},
     "output_type": "display_data"
    }
   ],
   "source": [
    " #Create a bar graph of passenger counts by sex and class\n",
    "male_first_class = len(df[(df['Sex'] == 'male') & (df['Passenger Class'] == 1)])\n",
    "male_second_class = len(df[(df['Sex'] == 'male') & (df['Passenger Class'] == 2)])\n",
    "male_third_class = len(df[(df['Sex'] == 'male') & (df['Passenger Class'] == 3)])\n",
    "\n",
    "female_first_class = len(df[(df['Sex'] == 'female') & (df['Passenger Class'] == 1)])\n",
    "female_second_class = len(df[(df['Sex'] == 'female') & (df['Passenger Class'] == 2)])\n",
    "female_third_class = len(df[(df['Sex'] == 'female') & (df['Passenger Class'] == 3)])\n",
    "\n",
    "labels = ['1st Class', '2nd Class', '3rd Class']\n",
    "male_sizes = [male_first_class, male_second_class, male_third_class]\n",
    "female_sizes = [female_first_class, female_second_class, female_third_class]\n",
    "\n",
    "x = np.arange(len(labels))\n",
    "width = 0.35\n",
    "\n",
    "fig, ax = plt.subplots()\n",
    "rects1 = ax.bar(x - width/2, male_sizes, width, label='Male')\n",
    "rects2 = ax.bar(x + width/2, female_sizes, width, label='Female')\n",
    "\n",
    "ax.set_ylabel('Count')\n",
    "ax.set_title('Passenger Count by Sex and Class')\n",
    "ax.set_xticks(x)\n",
    "ax.set_xticklabels(labels)\n",
    "ax.legend()\n",
    "\n",
    "plt.show()"
   ]
  },
  {
   "cell_type": "markdown",
   "id": "1909cfec-5a10-4077-9190-ce625c4fecdc",
   "metadata": {},
   "source": [
    "#### NOTE: Interestingly, more than 50% of passengers opted for 3rd Class, indicating a significant proportion of budget-conscious travelers."
   ]
  },
  {
   "cell_type": "markdown",
   "id": "ffedcfba-df85-4f83-b896-64f090def12d",
   "metadata": {},
   "source": [
    "### 17.How many passengesr travelled from different classes (bar graph)?"
   ]
  },
  {
   "cell_type": "code",
   "execution_count": 825,
   "id": "b52d708a-a38b-4aea-b41f-ca0e70d0a7a6",
   "metadata": {},
   "outputs": [
    {
     "data": {
      "image/png": "[encoded data removed]",
      "text/plain": [
       "<Figure size 800x600 with 1 Axes>"
      ]
     },
     "metadata": {},
     "output_type": "display_data"
    }
   ],
   "source": [
    "# Create a bar graph of passenger count by class\n",
    "class_counts = df['Passenger Class'].value_counts()\n",
    "\n",
    "plt.figure(figsize=(8,6))\n",
    "plt.bar(class_counts.index, class_counts.values, \n",
    "        edgecolor='black', color=['#007bff', '#ff0000', '#008000'])\n",
    "plt.title('Passenger Count by Class')\n",
    "plt.xlabel('Class')\n",
    "plt.ylabel('Count')\n",
    "plt.xticks([1, 2, 3], ['1st Class', '2nd Class', '3rd Class'])\n",
    "plt.show()\n",
    "\n"
   ]
  },
  {
   "cell_type": "markdown",
   "id": "5950d12d-d15e-44a8-b5bf-3213d03744fb",
   "metadata": {},
   "source": [
    "#### 3rd Class is the most chosen among all three "
   ]
  },
  {
   "cell_type": "markdown",
   "id": "b72f1635-3505-4ef1-8f2a-0cbbbfa1480a",
   "metadata": {},
   "source": [
    "### 18.Passengers survived class wise bar chart?"
   ]
  },
  {
   "cell_type": "code",
   "execution_count": 828,
   "id": "33894786-315f-4216-975d-2d13faee0252",
   "metadata": {},
   "outputs": [
    {
     "data": {
      "image/png": "[encoded data removed]",
      "text/plain": [
       "<Figure size 1000x600 with 1 Axes>"
      ]
     },
     "metadata": {},
     "output_type": "display_data"
    }
   ],
   "source": [
    "# Create a bar graph of passengers survived by class\n",
    "survived_class_counts = df[df['Survived'] == 1]['Passenger Class'].value_counts()\n",
    "not_survived_class_counts = df[df['Survived'] == 0]['Passenger Class'].value_counts()\n",
    "\n",
    "# Sort the data to ensure correct order\n",
    "survived_class_counts = survived_class_counts.sort_index()\n",
    "not_survived_class_counts = not_survived_class_counts.sort_index()\n",
    "\n",
    "bar_width = 0.35\n",
    "x = np.arange(3)\n",
    "\n",
    "plt.figure(figsize=(10,6))\n",
    "plt.bar(x - bar_width/2, survived_class_counts.values, bar_width, \n",
    "        edgecolor='black', label='Survived', color='#007bff')\n",
    "plt.bar(x + bar_width/2, not_survived_class_counts.values, bar_width, \n",
    "        edgecolor='black', label='Not Survived', color='#ff0000')\n",
    "plt.title('Passengers Survived by Class')\n",
    "plt.xlabel('Class')\n",
    "plt.ylabel('Count')\n",
    "plt.xticks(x, ['1st Class', '2nd Class', '3rd Class'])\n",
    "plt.legend()\n",
    "plt.show()"
   ]
  },
  {
   "cell_type": "code",
   "execution_count": null,
   "id": "b3d2c272-713a-4480-8217-eed32825eccc",
   "metadata": {},
   "outputs": [],
   "source": []
  },
  {
   "cell_type": "code",
   "execution_count": 829,
   "id": "5eb29b8b-e15b-4a20-b650-73809caa0d64",
   "metadata": {},
   "outputs": [
    {
     "data": {
      "image/png": "[encoded data removed]",
      "text/plain": [
       "<Figure size 1200x600 with 2 Axes>"
      ]
     },
     "metadata": {},
     "output_type": "display_data"
    }
   ],
   "source": [
    "# Create a figure with two subplots\n",
    "fig, axs = plt.subplots(1, 2, figsize=(12, 6))\n",
    "\n",
    "# Plot1: Female survivors under 30 (Bar Graph)\n",
    "female_survivors_under_30 = df[(df['Sex'] == 'female') & (df['Survived'] == 1) & (df['Age'] < 30)]\n",
    "female_non_survivors_under_30 = df[(df['Sex'] == 'female') & (df['Survived'] == 0) & (df['Age'] < 30)]\n",
    "\n",
    "axs[0].bar(['Survived', 'Non-Survived'], [len(female_survivors_under_30), len(female_non_survivors_under_30)], \n",
    "           edgecolor='black', color=['#007bff', '#ff0000'])\n",
    "axs[0].set_title('Female Survivors under 30')\n",
    "axs[0].set_xlabel('Status')\n",
    "axs[0].set_ylabel('Count')\n",
    "\n",
    "# Plot2: Age distribution (Histogram)\n",
    "axs[1].hist(df['Age'].dropna(), bins=20, edgecolor='black')\n",
    "axs[1].set_title('Age Distribution')\n",
    "axs[1].set_xlabel('Age')\n",
    "axs[1].set_ylabel('Frequency')\n",
    "\n",
    "plt.tight_layout()\n",
    "plt.show()"
   ]
  },
  {
   "cell_type": "code",
   "execution_count": 830,
   "id": "08016cde-4b9e-45df-ac26-7fcf8a1db192",
   "metadata": {},
   "outputs": [
    {
     "data": {
      "text/html": [
       "<div>\n",
       "<style scoped>\n",
       "    .dataframe tbody tr th:only-of-type {\n",
       "        vertical-align: middle;\n",
       "    }\n",
       "\n",
       "    .dataframe tbody tr th {\n",
       "        vertical-align: top;\n",
       "    }\n",
       "\n",
       "    .dataframe thead th {\n",
       "        text-align: right;\n",
       "    }\n",
       "</style>\n",
       "<table border=\"1\" class=\"dataframe\">\n",
       "  <thead>\n",
       "    <tr style=\"text-align: right;\">\n",
       "      <th></th>\n",
       "      <th>PassengerId</th>\n",
       "      <th>Survived</th>\n",
       "      <th>Passenger Class</th>\n",
       "      <th>Name</th>\n",
       "      <th>Sex</th>\n",
       "      <th>Age</th>\n",
       "      <th>Siblings/Spouses</th>\n",
       "      <th>Parents/Children</th>\n",
       "      <th>Ticket</th>\n",
       "      <th>Fare</th>\n",
       "      <th>Cabin</th>\n",
       "      <th>Embarked</th>\n",
       "    </tr>\n",
       "  </thead>\n",
       "  <tbody>\n",
       "    <tr>\n",
       "      <th>0</th>\n",
       "      <td>1</td>\n",
       "      <td>0</td>\n",
       "      <td>3</td>\n",
       "      <td>Braund, Mr. Owen Harris</td>\n",
       "      <td>male</td>\n",
       "      <td>22.0</td>\n",
       "      <td>1</td>\n",
       "      <td>0</td>\n",
       "      <td>A/5 21171</td>\n",
       "      <td>7.2500</td>\n",
       "      <td>Unknown</td>\n",
       "      <td>S</td>\n",
       "    </tr>\n",
       "    <tr>\n",
       "      <th>1</th>\n",
       "      <td>2</td>\n",
       "      <td>1</td>\n",
       "      <td>1</td>\n",
       "      <td>Cumings, Mrs. John Bradley (Florence Briggs Th...</td>\n",
       "      <td>female</td>\n",
       "      <td>38.0</td>\n",
       "      <td>1</td>\n",
       "      <td>0</td>\n",
       "      <td>PC 17599</td>\n",
       "      <td>71.2833</td>\n",
       "      <td>C85</td>\n",
       "      <td>C</td>\n",
       "    </tr>\n",
       "    <tr>\n",
       "      <th>2</th>\n",
       "      <td>3</td>\n",
       "      <td>1</td>\n",
       "      <td>3</td>\n",
       "      <td>Heikkinen, Miss. Laina</td>\n",
       "      <td>female</td>\n",
       "      <td>26.0</td>\n",
       "      <td>0</td>\n",
       "      <td>0</td>\n",
       "      <td>STON/O2. 3101282</td>\n",
       "      <td>7.9250</td>\n",
       "      <td>Unknown</td>\n",
       "      <td>S</td>\n",
       "    </tr>\n",
       "    <tr>\n",
       "      <th>3</th>\n",
       "      <td>4</td>\n",
       "      <td>1</td>\n",
       "      <td>1</td>\n",
       "      <td>Futrelle, Mrs. Jacques Heath (Lily May Peel)</td>\n",
       "      <td>female</td>\n",
       "      <td>35.0</td>\n",
       "      <td>1</td>\n",
       "      <td>0</td>\n",
       "      <td>113803</td>\n",
       "      <td>53.1000</td>\n",
       "      <td>C123</td>\n",
       "      <td>S</td>\n",
       "    </tr>\n",
       "    <tr>\n",
       "      <th>4</th>\n",
       "      <td>5</td>\n",
       "      <td>0</td>\n",
       "      <td>3</td>\n",
       "      <td>Allen, Mr. William Henry</td>\n",
       "      <td>male</td>\n",
       "      <td>35.0</td>\n",
       "      <td>0</td>\n",
       "      <td>0</td>\n",
       "      <td>373450</td>\n",
       "      <td>8.0500</td>\n",
       "      <td>Unknown</td>\n",
       "      <td>S</td>\n",
       "    </tr>\n",
       "  </tbody>\n",
       "</table>\n",
       "</div>"
      ],
      "text/plain": [
       "   PassengerId  Survived  Passenger Class  \\\n",
       "0            1         0                3   \n",
       "1            2         1                1   \n",
       "2            3         1                3   \n",
       "3            4         1                1   \n",
       "4            5         0                3   \n",
       "\n",
       "                                                Name     Sex   Age  \\\n",
       "0                            Braund, Mr. Owen Harris    male  22.0   \n",
       "1  Cumings, Mrs. John Bradley (Florence Briggs Th...  female  38.0   \n",
       "2                             Heikkinen, Miss. Laina  female  26.0   \n",
       "3       Futrelle, Mrs. Jacques Heath (Lily May Peel)  female  35.0   \n",
       "4                           Allen, Mr. William Henry    male  35.0   \n",
       "\n",
       "   Siblings/Spouses  Parents/Children            Ticket     Fare    Cabin  \\\n",
       "0                 1                 0         A/5 21171   7.2500  Unknown   \n",
       "1                 1                 0          PC 17599  71.2833      C85   \n",
       "2                 0                 0  STON/O2. 3101282   7.9250  Unknown   \n",
       "3                 1                 0            113803  53.1000     C123   \n",
       "4                 0                 0            373450   8.0500  Unknown   \n",
       "\n",
       "  Embarked  \n",
       "0        S  \n",
       "1        C  \n",
       "2        S  \n",
       "3        S  \n",
       "4        S  "
      ]
     },
     "execution_count": 830,
     "metadata": {},
     "output_type": "execute_result"
    }
   ],
   "source": [
    "df.head()"
   ]
  },
  {
   "cell_type": "markdown",
   "id": "1d66600e-7982-4b74-8df2-ec78e3dbcc65",
   "metadata": {},
   "source": [
    "### Drop Unwanted Columns and Map the Male value to 1 and female value to 0"
   ]
  },
  {
   "cell_type": "code",
   "execution_count": 878,
   "id": "f308559e-f1bb-4d3a-9249-1d9b4fc5cec6",
   "metadata": {},
   "outputs": [],
   "source": [
    "# Select specific columns from the original DataFrame and create a copy\n",
    "cols = [\"Survived\", \"Passenger Class\", \"Sex\", \"Siblings/Spouses\", \"Parents/Children\", \"Fare\", \"Embarked\"]\n",
    "final_df = df[cols].copy()\n",
    "\n",
    "# Map the 'Sex' column to numerical values (0 for male, 1 for female)\n",
    "final_df['Sex'] = final_df['Sex'].map({'male': 0, 'female': 1})\n"
   ]
  },
  {
   "cell_type": "code",
   "execution_count": 862,
   "id": "7c183759-ca4d-406d-87da-d04c98ffd658",
   "metadata": {},
   "outputs": [
    {
     "data": {
      "text/html": [
       "<div>\n",
       "<style scoped>\n",
       "    .dataframe tbody tr th:only-of-type {\n",
       "        vertical-align: middle;\n",
       "    }\n",
       "\n",
       "    .dataframe tbody tr th {\n",
       "        vertical-align: top;\n",
       "    }\n",
       "\n",
       "    .dataframe thead th {\n",
       "        text-align: right;\n",
       "    }\n",
       "</style>\n",
       "<table border=\"1\" class=\"dataframe\">\n",
       "  <thead>\n",
       "    <tr style=\"text-align: right;\">\n",
       "      <th></th>\n",
       "      <th>Survived</th>\n",
       "      <th>Passenger Class</th>\n",
       "      <th>Sex</th>\n",
       "      <th>Siblings/Spouses</th>\n",
       "      <th>Parents/Children</th>\n",
       "      <th>Fare</th>\n",
       "      <th>Embarked</th>\n",
       "    </tr>\n",
       "  </thead>\n",
       "  <tbody>\n",
       "    <tr>\n",
       "      <th>0</th>\n",
       "      <td>0</td>\n",
       "      <td>3</td>\n",
       "      <td>0</td>\n",
       "      <td>1</td>\n",
       "      <td>0</td>\n",
       "      <td>7.2500</td>\n",
       "      <td>S</td>\n",
       "    </tr>\n",
       "    <tr>\n",
       "      <th>1</th>\n",
       "      <td>1</td>\n",
       "      <td>1</td>\n",
       "      <td>1</td>\n",
       "      <td>1</td>\n",
       "      <td>0</td>\n",
       "      <td>71.2833</td>\n",
       "      <td>C</td>\n",
       "    </tr>\n",
       "    <tr>\n",
       "      <th>2</th>\n",
       "      <td>1</td>\n",
       "      <td>3</td>\n",
       "      <td>1</td>\n",
       "      <td>0</td>\n",
       "      <td>0</td>\n",
       "      <td>7.9250</td>\n",
       "      <td>S</td>\n",
       "    </tr>\n",
       "    <tr>\n",
       "      <th>3</th>\n",
       "      <td>1</td>\n",
       "      <td>1</td>\n",
       "      <td>1</td>\n",
       "      <td>1</td>\n",
       "      <td>0</td>\n",
       "      <td>53.1000</td>\n",
       "      <td>S</td>\n",
       "    </tr>\n",
       "    <tr>\n",
       "      <th>4</th>\n",
       "      <td>0</td>\n",
       "      <td>3</td>\n",
       "      <td>0</td>\n",
       "      <td>0</td>\n",
       "      <td>0</td>\n",
       "      <td>8.0500</td>\n",
       "      <td>S</td>\n",
       "    </tr>\n",
       "    <tr>\n",
       "      <th>...</th>\n",
       "      <td>...</td>\n",
       "      <td>...</td>\n",
       "      <td>...</td>\n",
       "      <td>...</td>\n",
       "      <td>...</td>\n",
       "      <td>...</td>\n",
       "      <td>...</td>\n",
       "    </tr>\n",
       "    <tr>\n",
       "      <th>886</th>\n",
       "      <td>0</td>\n",
       "      <td>2</td>\n",
       "      <td>0</td>\n",
       "      <td>0</td>\n",
       "      <td>0</td>\n",
       "      <td>13.0000</td>\n",
       "      <td>S</td>\n",
       "    </tr>\n",
       "    <tr>\n",
       "      <th>887</th>\n",
       "      <td>1</td>\n",
       "      <td>1</td>\n",
       "      <td>1</td>\n",
       "      <td>0</td>\n",
       "      <td>0</td>\n",
       "      <td>30.0000</td>\n",
       "      <td>S</td>\n",
       "    </tr>\n",
       "    <tr>\n",
       "      <th>888</th>\n",
       "      <td>0</td>\n",
       "      <td>3</td>\n",
       "      <td>1</td>\n",
       "      <td>1</td>\n",
       "      <td>2</td>\n",
       "      <td>23.4500</td>\n",
       "      <td>S</td>\n",
       "    </tr>\n",
       "    <tr>\n",
       "      <th>889</th>\n",
       "      <td>1</td>\n",
       "      <td>1</td>\n",
       "      <td>0</td>\n",
       "      <td>0</td>\n",
       "      <td>0</td>\n",
       "      <td>30.0000</td>\n",
       "      <td>C</td>\n",
       "    </tr>\n",
       "    <tr>\n",
       "      <th>890</th>\n",
       "      <td>0</td>\n",
       "      <td>3</td>\n",
       "      <td>0</td>\n",
       "      <td>0</td>\n",
       "      <td>0</td>\n",
       "      <td>7.7500</td>\n",
       "      <td>Q</td>\n",
       "    </tr>\n",
       "  </tbody>\n",
       "</table>\n",
       "<p>891 rows × 7 columns</p>\n",
       "</div>"
      ],
      "text/plain": [
       "     Survived  Passenger Class  Sex  Siblings/Spouses  Parents/Children  \\\n",
       "0           0                3    0                 1                 0   \n",
       "1           1                1    1                 1                 0   \n",
       "2           1                3    1                 0                 0   \n",
       "3           1                1    1                 1                 0   \n",
       "4           0                3    0                 0                 0   \n",
       "..        ...              ...  ...               ...               ...   \n",
       "886         0                2    0                 0                 0   \n",
       "887         1                1    1                 0                 0   \n",
       "888         0                3    1                 1                 2   \n",
       "889         1                1    0                 0                 0   \n",
       "890         0                3    0                 0                 0   \n",
       "\n",
       "        Fare Embarked  \n",
       "0     7.2500        S  \n",
       "1    71.2833        C  \n",
       "2     7.9250        S  \n",
       "3    53.1000        S  \n",
       "4     8.0500        S  \n",
       "..       ...      ...  \n",
       "886  13.0000        S  \n",
       "887  30.0000        S  \n",
       "888  23.4500        S  \n",
       "889  30.0000        C  \n",
       "890   7.7500        Q  \n",
       "\n",
       "[891 rows x 7 columns]"
      ]
     },
     "execution_count": 862,
     "metadata": {},
     "output_type": "execute_result"
    }
   ],
   "source": [
    "final_df"
   ]
  },
  {
   "cell_type": "code",
   "execution_count": null,
   "id": "7aeed79e-0d5a-47da-a0b8-59db3cd43322",
   "metadata": {},
   "outputs": [],
   "source": []
  },
  {
   "cell_type": "markdown",
   "id": "161e9da9-9c0c-48d3-b188-2a23e298e89c",
   "metadata": {},
   "source": [
    "## Conclusion of Titanic Data Analysis"
   ]
  },
  {
   "cell_type": "markdown",
   "id": "98bf25a2-185b-440f-a55e-5e14e0a2454f",
   "metadata": {},
   "source": [
    "#### The analysis of the Titanic dataset revealed key survival trends based on gender, age, and class. The majority of passengers were between the ages of 20 to 40 years, and over 55% of travelers belonged to the 3rd class, indicating that a significant portion of the passengers came from lower socio-economic backgrounds.\n",
    "\n",
    "#### The overall survival rate was 38.38%, with women having a significantly higher survival rate than men, reinforcing the \"women and children first\" evacuation policy. Additionally, passengers from the 1st class had the highest survival rate, likely due to better access to lifeboats and priority rescue efforts.\n",
    "\n",
    "#### These findings highlight the impact of social class and gender on survival probabilities, demonstrating how certain groups had a greater advantage during the disaster. This analysis serves as a valuable case study in understanding the influence of socio-economic factors in crisis situations. "
   ]
  },
  {
   "cell_type": "code",
   "execution_count": null,
   "id": "d76ab7f6-f5b2-4e0a-ae55-5977b0825378",
   "metadata": {},
   "outputs": [],
   "source": []
  }
 ],
 "metadata": {
  "kernelspec": {
   "display_name": "Python [conda env:base] *",
   "language": "python",
   "name": "conda-base-py"
  },
  "language_info": {
   "codemirror_mode": {
    "name": "ipython",
    "version": 3
   },
   "file_extension": ".py",
   "mimetype": "text/x-python",
   "name": "python",
   "nbconvert_exporter": "python",
   "pygments_lexer": "ipython3",
   "version": "3.12.7"
  }
 },
 "nbformat": 4,
 "nbformat_minor": 5
}
